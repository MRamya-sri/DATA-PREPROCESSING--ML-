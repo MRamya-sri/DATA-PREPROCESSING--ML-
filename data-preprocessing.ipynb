{
 "cells": [
  {
   "cell_type": "markdown",
   "id": "9f903eee",
   "metadata": {},
   "source": [
    "-> DATA PREPROCESSING\n",
    "\n"
   ]
  },
  {
   "cell_type": "markdown",
   "id": "95e1ccbc",
   "metadata": {},
   "source": [
    "1.checking missing values"
   ]
  },
  {
   "cell_type": "code",
   "execution_count": null,
   "id": "d61ff0cd",
   "metadata": {},
   "outputs": [],
   "source": [
    "data.isnull().sum()"
   ]
  },
  {
   "cell_type": "markdown",
   "id": "33be083e",
   "metadata": {},
   "source": [
    "handling missing data "
   ]
  },
  {
   "cell_type": "code",
   "execution_count": null,
   "id": "f90a4bb9",
   "metadata": {},
   "outputs": [],
   "source": [
    "#filling columns with 0\n",
    "data['columns'].fillna(0,inplace=True)\n",
    "\n",
    "# If there are missing values, you can impute them. For numeric columns, you can use mean imputation:\n",
    "imputer = SimpleImputer(strategy='mean')\n",
    "data['numeric_column'] = imputer.fit_transform(data['numeric_column'].values.reshape(-1, 1))\n",
    "\n",
    "# For categorical columns, you can use mode imputation:\n",
    "imputer = SimpleImputer(strategy='most_frequent')\n",
    "data['categorical_column'] = imputer.fit_transform(data['categorical_column'].values.reshape(-1, 1))\n",
    "\n"
   ]
  },
  {
   "cell_type": "markdown",
   "id": "98407b76",
   "metadata": {},
   "source": [
    "2.Converting categorical variables into numerical format is a common preprocessing step in machine learning. There are two common methods for doing this: one-hot encoding and label encoding."
   ]
  },
  {
   "cell_type": "markdown",
   "id": "9faca3d2",
   "metadata": {},
   "source": [
    "Label Encoding"
   ]
  },
  {
   "cell_type": "code",
   "execution_count": 4,
   "id": "70ccd2a9",
   "metadata": {},
   "outputs": [
    {
     "name": "stdout",
     "output_type": "stream",
     "text": [
      "  Category  Category_encoded\n",
      "0        A                 0\n",
      "1        B                 1\n",
      "2        A                 0\n",
      "3        C                 2\n",
      "4        B                 1\n",
      "5        A                 0\n"
     ]
    }
   ],
   "source": [
    "from sklearn.preprocessing import LabelEncoder\n",
    "\n",
    "# Create a sample DataFrame\n",
    "import pandas as pd\n",
    "data = pd.DataFrame({'Category': ['A', 'B', 'A', 'C', 'B', 'A']})\n",
    "\n",
    "# Initialize the LabelEncoder\n",
    "label_encoder = LabelEncoder()\n",
    "\n",
    "# Apply label encoding to the 'Category' column\n",
    "data['Category_encoded'] = label_encoder.fit_transform(data['Category'])\n",
    "\n",
    "print(data)\n"
   ]
  },
  {
   "cell_type": "markdown",
   "id": "3b4aaf6c",
   "metadata": {},
   "source": [
    "One-Hot Encoding"
   ]
  },
  {
   "cell_type": "code",
   "execution_count": 5,
   "id": "ab383836",
   "metadata": {},
   "outputs": [
    {
     "name": "stdout",
     "output_type": "stream",
     "text": [
      "   Category_A  Category_B  Category_C\n",
      "0           1           0           0\n",
      "1           0           1           0\n",
      "2           1           0           0\n",
      "3           0           0           1\n",
      "4           0           1           0\n",
      "5           1           0           0\n"
     ]
    }
   ],
   "source": [
    "# Create a sample DataFrame\n",
    "import pandas as pd\n",
    "data = pd.DataFrame({'Category': ['A', 'B', 'A', 'C', 'B', 'A']})\n",
    "\n",
    "# Apply one-hot encoding to the 'Category' column\n",
    "data = pd.get_dummies(data, columns=['Category'], prefix='Category')\n",
    "\n",
    "print(data)\n"
   ]
  },
  {
   "cell_type": "markdown",
   "id": "4be17ffb",
   "metadata": {},
   "source": [
    "3.Normalizing or scaling numerical features"
   ]
  },
  {
   "cell_type": "markdown",
   "id": "62ce0822",
   "metadata": {},
   "source": [
    "Min-Max Scaling:"
   ]
  },
  {
   "cell_type": "code",
   "execution_count": 1,
   "id": "fa6e4dce",
   "metadata": {},
   "outputs": [
    {
     "name": "stdout",
     "output_type": "stream",
     "text": [
      "   Feature  Feature_scaled\n",
      "0       10            0.00\n",
      "1       20            0.25\n",
      "2       30            0.50\n",
      "3       40            0.75\n",
      "4       50            1.00\n"
     ]
    }
   ],
   "source": [
    "from sklearn.preprocessing import MinMaxScaler\n",
    "\n",
    "# Create a sample DataFrame with a numeric column 'Feature'\n",
    "import pandas as pd\n",
    "data = pd.DataFrame({'Feature': [10, 20, 30, 40, 50]})\n",
    "\n",
    "# Initialize the MinMaxScaler\n",
    "scaler = MinMaxScaler()\n",
    "\n",
    "# Apply Min-Max scaling to the 'Feature' column\n",
    "data['Feature_scaled'] = scaler.fit_transform(data[['Feature']])\n",
    "\n",
    "print(data)\n"
   ]
  },
  {
   "cell_type": "markdown",
   "id": "9837e099",
   "metadata": {},
   "source": [
    "Standardization (Z-score Scaling):"
   ]
  },
  {
   "cell_type": "code",
   "execution_count": 2,
   "id": "d5bcc37a",
   "metadata": {},
   "outputs": [
    {
     "name": "stdout",
     "output_type": "stream",
     "text": [
      "   Feature  Feature_standardized\n",
      "0       10             -1.414214\n",
      "1       20             -0.707107\n",
      "2       30              0.000000\n",
      "3       40              0.707107\n",
      "4       50              1.414214\n"
     ]
    }
   ],
   "source": [
    "from sklearn.preprocessing import StandardScaler\n",
    "\n",
    "# Create a sample DataFrame with a numeric column 'Feature'\n",
    "import pandas as pd\n",
    "data = pd.DataFrame({'Feature': [10, 20, 30, 40, 50]})\n",
    "\n",
    "# Initialize the StandardScaler\n",
    "scaler = StandardScaler()\n",
    "\n",
    "# Apply standardization to the 'Feature' column\n",
    "data['Feature_standardized'] = scaler.fit_transform(data[['Feature']])\n",
    "\n",
    "print(data)\n"
   ]
  },
  {
   "cell_type": "code",
   "execution_count": null,
   "id": "768ba30c",
   "metadata": {},
   "outputs": [],
   "source": []
  }
 ],
 "metadata": {
  "kernelspec": {
   "display_name": "Python 3 (ipykernel)",
   "language": "python",
   "name": "python3"
  },
  "language_info": {
   "codemirror_mode": {
    "name": "ipython",
    "version": 3
   },
   "file_extension": ".py",
   "mimetype": "text/x-python",
   "name": "python",
   "nbconvert_exporter": "python",
   "pygments_lexer": "ipython3",
   "version": "3.11.3"
  }
 },
 "nbformat": 4,
 "nbformat_minor": 5
}
